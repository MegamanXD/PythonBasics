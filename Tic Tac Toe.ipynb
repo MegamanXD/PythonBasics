{
 "cells": [
  {
   "cell_type": "markdown",
   "metadata": {
    "id": "RURdAhp87IZb"
   },
   "source": [
    "# **Step 0**. Set default values for global variables"
   ]
  },
  {
   "cell_type": "code",
   "execution_count": 1,
   "metadata": {
    "id": "aPc1gxso-L_W"
   },
   "outputs": [],
   "source": [
    "board = [\"-\", \"-\", \"-\",\n",
    "         \"-\", \"-\", \"-\",\n",
    "         \"-\", \"-\", \"-\"]\n",
    "\n",
    "VALID_INPUTS = [\"1\", \"2\", \"3\", \"4\", \"5\", \"6\", \"7\", \"8\", \"9\"]\n",
    "game_still_going = True\n",
    "winner = None\n",
    "current_player = \"X\""
   ]
  },
  {
   "cell_type": "markdown",
   "metadata": {
    "id": "GcXGL5zF_Jt_"
   },
   "source": [
    "# **Step 1**. Display the Game Board"
   ]
  },
  {
   "cell_type": "code",
   "execution_count": 2,
   "metadata": {
    "id": "Uyiuy1ee918q"
   },
   "outputs": [],
   "source": [
    "def display_board():\n",
    "  print(\"\\n\")\n",
    "  print(f\"{board[0]} | {board[1]} | {board[2]}     1 | 2 | 3 \")\n",
    "  print(f\"{board[3]} | {board[4]} | {board[5]}     4 | 5 | 6 \")\n",
    "  print(f\"{board[6]} | {board[7]} | {board[8]}     7 | 8 | 9 \")\n",
    "  print(\"\\n\")"
   ]
  },
  {
   "cell_type": "code",
   "execution_count": 3,
   "metadata": {
    "colab": {
     "base_uri": "https://localhost:8080/",
     "height": 139
    },
    "executionInfo": {
     "elapsed": 2056,
     "status": "ok",
     "timestamp": 1599476136560,
     "user": {
      "displayName": "Minh Nguyen",
      "photoUrl": "https://lh3.googleusercontent.com/a-/AOh14Gjicu26fi8h3WrhMIucM-BdzwBqcjTbM0Ft1dqC=s64",
      "userId": "14212695128472735634"
     },
     "user_tz": -420
    },
    "id": "oJwIvxft_UKd",
    "outputId": "4efd6f94-70d7-4321-9c38-ed3e3cc1503b"
   },
   "outputs": [
    {
     "name": "stdout",
     "output_type": "stream",
     "text": [
      "\n",
      "\n",
      "- | - | -     1 | 2 | 3 \n",
      "- | - | -     4 | 5 | 6 \n",
      "- | - | -     7 | 8 | 9 \n",
      "\n",
      "\n"
     ]
    }
   ],
   "source": [
    "display_board()"
   ]
  },
  {
   "cell_type": "markdown",
   "metadata": {
    "id": "AE7p2TO4_a6Y"
   },
   "source": [
    "# **Step 2**. Allow user to interact with the board"
   ]
  },
  {
   "cell_type": "code",
   "execution_count": 4,
   "metadata": {
    "id": "qgxExJGV6xfT"
   },
   "outputs": [],
   "source": [
    "def process_a_turn(player):\n",
    "  print(f\"{player}'s turn.\")\n",
    "  position = input(\"Choose a position from 1-9: \")\n",
    "\n",
    "  real_position = int(position) - 1   # In Python, index starts at 0, not 1\n",
    "  board[real_position] = player       # Replace \"-\" with the player's piece\n",
    "  display_board()                     # Show the updated game board"
   ]
  },
  {
   "cell_type": "code",
   "execution_count": 5,
   "metadata": {
    "id": "fyEWPbcE606A"
   },
   "outputs": [],
   "source": [
    "def check_if_game_over():\n",
    "  global game_still_going\n",
    "  # If all - has been replaced with X or O, the game is over\n",
    "  if \"-\" not in board:\n",
    "    game_still_going = False\n",
    "    print(\"The game is over.\")"
   ]
  },
  {
   "cell_type": "code",
   "execution_count": 6,
   "metadata": {
    "id": "EA4aJZJx-o-x"
   },
   "outputs": [],
   "source": [
    "def play_game():\n",
    "  display_board()\n",
    "\n",
    "  while game_still_going:\n",
    "    process_a_turn(current_player)\n",
    "    check_if_game_over()"
   ]
  },
  {
   "cell_type": "code",
   "execution_count": 7,
   "metadata": {
    "colab": {
     "base_uri": "https://localhost:8080/",
     "height": 1000
    },
    "executionInfo": {
     "elapsed": 29135,
     "status": "ok",
     "timestamp": 1599476163914,
     "user": {
      "displayName": "Minh Nguyen",
      "photoUrl": "https://lh3.googleusercontent.com/a-/AOh14Gjicu26fi8h3WrhMIucM-BdzwBqcjTbM0Ft1dqC=s64",
      "userId": "14212695128472735634"
     },
     "user_tz": -420
    },
    "id": "NJkw3RFX-yPi",
    "outputId": "dfcd08e6-db80-49a9-975b-90beb3792aaf"
   },
   "outputs": [
    {
     "name": "stdout",
     "output_type": "stream",
     "text": [
      "\n",
      "\n",
      "- | - | -     1 | 2 | 3 \n",
      "- | - | -     4 | 5 | 6 \n",
      "- | - | -     7 | 8 | 9 \n",
      "\n",
      "\n",
      "X's turn.\n",
      "\n",
      "\n",
      "- | - | -     1 | 2 | 3 \n",
      "- | - | -     4 | 5 | 6 \n",
      "- | - | X     7 | 8 | 9 \n",
      "\n",
      "\n",
      "X's turn.\n",
      "\n",
      "\n",
      "X | - | -     1 | 2 | 3 \n",
      "- | - | -     4 | 5 | 6 \n",
      "- | - | X     7 | 8 | 9 \n",
      "\n",
      "\n",
      "X's turn.\n",
      "\n",
      "\n",
      "X | X | -     1 | 2 | 3 \n",
      "- | - | -     4 | 5 | 6 \n",
      "- | - | X     7 | 8 | 9 \n",
      "\n",
      "\n",
      "X's turn.\n",
      "\n",
      "\n",
      "X | X | X     1 | 2 | 3 \n",
      "- | - | -     4 | 5 | 6 \n",
      "- | - | X     7 | 8 | 9 \n",
      "\n",
      "\n",
      "X's turn.\n",
      "\n",
      "\n",
      "X | X | X     1 | 2 | 3 \n",
      "X | - | -     4 | 5 | 6 \n",
      "- | - | X     7 | 8 | 9 \n",
      "\n",
      "\n",
      "X's turn.\n",
      "\n",
      "\n",
      "X | X | X     1 | 2 | 3 \n",
      "X | X | -     4 | 5 | 6 \n",
      "- | - | X     7 | 8 | 9 \n",
      "\n",
      "\n",
      "X's turn.\n",
      "\n",
      "\n",
      "X | X | X     1 | 2 | 3 \n",
      "X | X | X     4 | 5 | 6 \n",
      "- | - | X     7 | 8 | 9 \n",
      "\n",
      "\n",
      "X's turn.\n",
      "\n",
      "\n",
      "X | X | X     1 | 2 | 3 \n",
      "X | X | X     4 | 5 | 6 \n",
      "X | - | X     7 | 8 | 9 \n",
      "\n",
      "\n",
      "X's turn.\n",
      "\n",
      "\n",
      "X | X | X     1 | 2 | 3 \n",
      "X | X | X     4 | 5 | 6 \n",
      "X | X | X     7 | 8 | 9 \n",
      "\n",
      "\n",
      "The game is over.\n"
     ]
    }
   ],
   "source": [
    "play_game()"
   ]
  },
  {
   "cell_type": "markdown",
   "metadata": {
    "id": "lc-x8DE5_tvj"
   },
   "source": [
    "# **Step 3**. Enable 2 players to both interact with the board"
   ]
  },
  {
   "cell_type": "code",
   "execution_count": 8,
   "metadata": {
    "id": "O_R-Ph65-ys_"
   },
   "outputs": [],
   "source": [
    "def switch_player():\n",
    "  global current_player\n",
    "  current_player = \"O\" if current_player == \"X\" else \"X\""
   ]
  },
  {
   "cell_type": "code",
   "execution_count": 9,
   "metadata": {
    "id": "RRoSmcvLEX-n"
   },
   "outputs": [],
   "source": [
    "def play_game():\n",
    "  display_board()\n",
    "\n",
    "  while game_still_going:\n",
    "    process_a_turn(current_player)\n",
    "    check_if_game_over()\n",
    "    switch_player()"
   ]
  },
  {
   "cell_type": "code",
   "execution_count": 17,
   "metadata": {},
   "outputs": [],
   "source": [
    "def reset_board():\n",
    "    global board, game_still_going\n",
    "    board = [\"-\", \"-\", \"-\",\n",
    "             \"-\", \"-\", \"-\",\n",
    "             \"-\", \"-\", \"-\"]\n",
    "    game_still_going = True"
   ]
  },
  {
   "cell_type": "code",
   "execution_count": 18,
   "metadata": {
    "colab": {
     "base_uri": "https://localhost:8080/",
     "height": 1000
    },
    "executionInfo": {
     "elapsed": 44974,
     "status": "ok",
     "timestamp": 1599476179929,
     "user": {
      "displayName": "Minh Nguyen",
      "photoUrl": "https://lh3.googleusercontent.com/a-/AOh14Gjicu26fi8h3WrhMIucM-BdzwBqcjTbM0Ft1dqC=s64",
      "userId": "14212695128472735634"
     },
     "user_tz": -420
    },
    "id": "DX7Ucp3iEZ3G",
    "outputId": "4e63270c-1181-49ed-c146-fd7ffb591210"
   },
   "outputs": [
    {
     "name": "stdout",
     "output_type": "stream",
     "text": [
      "\n",
      "\n",
      "- | - | -     1 | 2 | 3 \n",
      "- | - | -     4 | 5 | 6 \n",
      "- | - | -     7 | 8 | 9 \n",
      "\n",
      "\n",
      "X's turn.\n",
      "\n",
      "\n",
      "X | - | -     1 | 2 | 3 \n",
      "- | - | -     4 | 5 | 6 \n",
      "- | - | -     7 | 8 | 9 \n",
      "\n",
      "\n",
      "O's turn.\n",
      "\n",
      "\n",
      "X | O | -     1 | 2 | 3 \n",
      "- | - | -     4 | 5 | 6 \n",
      "- | - | -     7 | 8 | 9 \n",
      "\n",
      "\n",
      "X's turn.\n",
      "\n",
      "\n",
      "X | O | X     1 | 2 | 3 \n",
      "- | - | -     4 | 5 | 6 \n",
      "- | - | -     7 | 8 | 9 \n",
      "\n",
      "\n",
      "O's turn.\n",
      "\n",
      "\n",
      "X | O | X     1 | 2 | 3 \n",
      "O | - | -     4 | 5 | 6 \n",
      "- | - | -     7 | 8 | 9 \n",
      "\n",
      "\n",
      "X's turn.\n",
      "\n",
      "\n",
      "X | O | X     1 | 2 | 3 \n",
      "O | X | -     4 | 5 | 6 \n",
      "- | - | -     7 | 8 | 9 \n",
      "\n",
      "\n",
      "O's turn.\n",
      "\n",
      "\n",
      "X | O | X     1 | 2 | 3 \n",
      "O | X | O     4 | 5 | 6 \n",
      "- | - | -     7 | 8 | 9 \n",
      "\n",
      "\n",
      "X's turn.\n",
      "\n",
      "\n",
      "X | O | X     1 | 2 | 3 \n",
      "O | X | O     4 | 5 | 6 \n",
      "X | - | -     7 | 8 | 9 \n",
      "\n",
      "\n",
      "O's turn.\n",
      "\n",
      "\n",
      "X | O | X     1 | 2 | 3 \n",
      "O | X | O     4 | 5 | 6 \n",
      "X | O | -     7 | 8 | 9 \n",
      "\n",
      "\n",
      "X's turn.\n",
      "\n",
      "\n",
      "X | O | X     1 | 2 | 3 \n",
      "O | X | O     4 | 5 | 6 \n",
      "X | O | X     7 | 8 | 9 \n",
      "\n",
      "\n",
      "The game is over.\n"
     ]
    }
   ],
   "source": [
    "reset_board()\n",
    "play_game()"
   ]
  },
  {
   "cell_type": "markdown",
   "metadata": {
    "id": "Mbauutgb_28N"
   },
   "source": [
    "# **Step 4**. Check for win/tie and declare the winner"
   ]
  },
  {
   "cell_type": "code",
   "execution_count": 19,
   "metadata": {
    "id": "RvXXWIzSPVEO"
   },
   "outputs": [],
   "source": [
    "# Check the rows for a win\n",
    "def row_winner():\n",
    "  if board[0] == board[1] == board[2] != \"-\": return board[0]\n",
    "  if board[3] == board[4] == board[5] != \"-\": return board[3] \n",
    "  if board[6] == board[7] == board[8] != \"-\": return board[6]\n",
    "  return None"
   ]
  },
  {
   "cell_type": "code",
   "execution_count": 20,
   "metadata": {
    "id": "DbUbnC9OPVwj"
   },
   "outputs": [],
   "source": [
    "# Check the columns for a win\n",
    "def column_winner():\n",
    "  if board[0] == board[3] == board[6] != \"-\": return board[0] \n",
    "  if board[1] == board[4] == board[7] != \"-\": return board[1] \n",
    "  if board[2] == board[5] == board[8] != \"-\": return board[2]\n",
    "  return None"
   ]
  },
  {
   "cell_type": "code",
   "execution_count": 21,
   "metadata": {
    "id": "r0fNZGSCPbW9"
   },
   "outputs": [],
   "source": [
    "# Check the diagonals for a win\n",
    "def diagonal_winner():\n",
    "  if board[0] == board[4] == board[8] != \"-\": return board[0]\n",
    "  if board[2] == board[4] == board[6] != \"-\": return board[2]\n",
    "  return None"
   ]
  },
  {
   "cell_type": "code",
   "execution_count": 22,
   "metadata": {
    "id": "o_1wrFJB-3o3"
   },
   "outputs": [],
   "source": [
    "def find_winner():\n",
    "  global winner\n",
    "  winners = [row_winner(), column_winner(), diagonal_winner()]\n",
    "  if \"X\" in winners: return \"X\"\n",
    "  if \"O\" in winners: return \"O\"\n",
    "  return None"
   ]
  },
  {
   "cell_type": "code",
   "execution_count": 23,
   "metadata": {
    "id": "vS9y32IaVjwc"
   },
   "outputs": [],
   "source": [
    "# Update the check_if_game_over function\n",
    "def check_if_game_over():\n",
    "  global game_still_going, winner\n",
    "  winner = find_winner()\n",
    "\n",
    "  # If somebody wins, stop the game\n",
    "  if winner != None:\n",
    "    game_still_going = False\n",
    "    print(\"{somebody} won\".format(somebody = winner))\n",
    "  # If nobody wins and all positions are used up, it's a tie\n",
    "  elif \"-\" not in board:\n",
    "    game_still_going = False\n",
    "    print(\"Tie.\")"
   ]
  },
  {
   "cell_type": "code",
   "execution_count": 24,
   "metadata": {
    "colab": {
     "base_uri": "https://localhost:8080/",
     "height": 1000
    },
    "executionInfo": {
     "elapsed": 13925,
     "status": "ok",
     "timestamp": 1599476211627,
     "user": {
      "displayName": "Minh Nguyen",
      "photoUrl": "https://lh3.googleusercontent.com/a-/AOh14Gjicu26fi8h3WrhMIucM-BdzwBqcjTbM0Ft1dqC=s64",
      "userId": "14212695128472735634"
     },
     "user_tz": -420
    },
    "id": "HwCcVRniX7l0",
    "outputId": "44da2ada-4034-4a5f-eea1-b4a2d7593670"
   },
   "outputs": [
    {
     "name": "stdout",
     "output_type": "stream",
     "text": [
      "\n",
      "\n",
      "- | - | -     1 | 2 | 3 \n",
      "- | - | -     4 | 5 | 6 \n",
      "- | - | -     7 | 8 | 9 \n",
      "\n",
      "\n",
      "O's turn.\n",
      "\n",
      "\n",
      "O | - | -     1 | 2 | 3 \n",
      "- | - | -     4 | 5 | 6 \n",
      "- | - | -     7 | 8 | 9 \n",
      "\n",
      "\n",
      "X's turn.\n",
      "\n",
      "\n",
      "O | X | -     1 | 2 | 3 \n",
      "- | - | -     4 | 5 | 6 \n",
      "- | - | -     7 | 8 | 9 \n",
      "\n",
      "\n",
      "O's turn.\n",
      "\n",
      "\n",
      "O | X | O     1 | 2 | 3 \n",
      "- | - | -     4 | 5 | 6 \n",
      "- | - | -     7 | 8 | 9 \n",
      "\n",
      "\n",
      "X's turn.\n",
      "\n",
      "\n",
      "O | X | O     1 | 2 | 3 \n",
      "X | - | -     4 | 5 | 6 \n",
      "- | - | -     7 | 8 | 9 \n",
      "\n",
      "\n",
      "O's turn.\n",
      "\n",
      "\n",
      "O | X | O     1 | 2 | 3 \n",
      "X | O | -     4 | 5 | 6 \n",
      "- | - | -     7 | 8 | 9 \n",
      "\n",
      "\n",
      "X's turn.\n",
      "\n",
      "\n",
      "O | X | O     1 | 2 | 3 \n",
      "X | O | X     4 | 5 | 6 \n",
      "- | - | -     7 | 8 | 9 \n",
      "\n",
      "\n",
      "O's turn.\n",
      "\n",
      "\n",
      "O | X | O     1 | 2 | 3 \n",
      "X | O | X     4 | 5 | 6 \n",
      "O | - | -     7 | 8 | 9 \n",
      "\n",
      "\n",
      "O won\n"
     ]
    }
   ],
   "source": [
    "reset_board()\n",
    "play_game()"
   ]
  },
  {
   "cell_type": "markdown",
   "metadata": {
    "id": "CcfTfR8dpEKp"
   },
   "source": [
    "# **Step 5**. Handle our input errors"
   ]
  },
  {
   "cell_type": "code",
   "execution_count": 25,
   "metadata": {
    "id": "r8ug85n9HeEz"
   },
   "outputs": [],
   "source": [
    "def get_valid_position(position):\n",
    "  # If the input is not valid, or the position is already occupied, ask the user again for valid input\n",
    "  while ( position not in VALID_INPUTS ) or ( board[int(position) - 1] != \"-\" ):\n",
    "    position = input(\"Select a valid unoccupied position (1-9): \")\n",
    "\n",
    "  # If the input is valid, return the real position\n",
    "  real_position = int(position) - 1 \n",
    "  return real_position"
   ]
  },
  {
   "cell_type": "code",
   "execution_count": 26,
   "metadata": {
    "id": "Qs6Gt8TVpDtQ"
   },
   "outputs": [],
   "source": [
    "def process_a_turn(player):\n",
    "  print(\"{somebody}'s turn.\".format(somebody = player))\n",
    "  position = input(\"Choose a position from 1-9: \")\n",
    "  real_position = get_valid_position(position)\n",
    "\n",
    "  board[real_position] = player     # Replace \"-\" with the player's piece\n",
    "  display_board()                   # Show the updated game board"
   ]
  },
  {
   "cell_type": "code",
   "execution_count": 27,
   "metadata": {
    "colab": {
     "base_uri": "https://localhost:8080/",
     "height": 1000
    },
    "executionInfo": {
     "elapsed": 85628,
     "status": "ok",
     "timestamp": 1599476310020,
     "user": {
      "displayName": "Minh Nguyen",
      "photoUrl": "https://lh3.googleusercontent.com/a-/AOh14Gjicu26fi8h3WrhMIucM-BdzwBqcjTbM0Ft1dqC=s64",
      "userId": "14212695128472735634"
     },
     "user_tz": -420
    },
    "id": "cjOYlNF5rEmt",
    "outputId": "33d22442-5430-486b-812b-16f67a0db12b"
   },
   "outputs": [
    {
     "name": "stdout",
     "output_type": "stream",
     "text": [
      "\n",
      "\n",
      "- | - | -     1 | 2 | 3 \n",
      "- | - | -     4 | 5 | 6 \n",
      "- | - | -     7 | 8 | 9 \n",
      "\n",
      "\n",
      "X's turn.\n",
      "\n",
      "\n",
      "X | - | -     1 | 2 | 3 \n",
      "- | - | -     4 | 5 | 6 \n",
      "- | - | -     7 | 8 | 9 \n",
      "\n",
      "\n",
      "O's turn.\n",
      "\n",
      "\n",
      "X | O | -     1 | 2 | 3 \n",
      "- | - | -     4 | 5 | 6 \n",
      "- | - | -     7 | 8 | 9 \n",
      "\n",
      "\n",
      "X's turn.\n",
      "\n",
      "\n",
      "X | O | X     1 | 2 | 3 \n",
      "- | - | -     4 | 5 | 6 \n",
      "- | - | -     7 | 8 | 9 \n",
      "\n",
      "\n",
      "O's turn.\n",
      "\n",
      "\n",
      "X | O | X     1 | 2 | 3 \n",
      "O | - | -     4 | 5 | 6 \n",
      "- | - | -     7 | 8 | 9 \n",
      "\n",
      "\n",
      "X's turn.\n",
      "\n",
      "\n",
      "X | O | X     1 | 2 | 3 \n",
      "O | X | -     4 | 5 | 6 \n",
      "- | - | -     7 | 8 | 9 \n",
      "\n",
      "\n",
      "O's turn.\n",
      "\n",
      "\n",
      "X | O | X     1 | 2 | 3 \n",
      "O | X | O     4 | 5 | 6 \n",
      "- | - | -     7 | 8 | 9 \n",
      "\n",
      "\n",
      "X's turn.\n",
      "\n",
      "\n",
      "X | O | X     1 | 2 | 3 \n",
      "O | X | O     4 | 5 | 6 \n",
      "X | - | -     7 | 8 | 9 \n",
      "\n",
      "\n",
      "X won\n"
     ]
    }
   ],
   "source": [
    "reset_board()\n",
    "play_game()"
   ]
  }
 ],
 "metadata": {
  "colab": {
   "collapsed_sections": [],
   "name": "3. Tic Tac Toe.ipynb",
   "provenance": [
    {
     "file_id": "1bvysXUvyoJfmA-DeKeopkdLRJv9b1pYj",
     "timestamp": 1598295861891
    }
   ]
  },
  "kernelspec": {
   "display_name": "Python 3 (ipykernel)",
   "language": "python",
   "name": "python3"
  },
  "language_info": {
   "codemirror_mode": {
    "name": "ipython",
    "version": 3
   },
   "file_extension": ".py",
   "mimetype": "text/x-python",
   "name": "python",
   "nbconvert_exporter": "python",
   "pygments_lexer": "ipython3",
   "version": "3.9.12"
  },
  "toc": {
   "base_numbering": 1,
   "nav_menu": {},
   "number_sections": true,
   "sideBar": true,
   "skip_h1_title": false,
   "title_cell": "Table of Contents",
   "title_sidebar": "Contents",
   "toc_cell": false,
   "toc_position": {},
   "toc_section_display": true,
   "toc_window_display": false
  },
  "varInspector": {
   "cols": {
    "lenName": 16,
    "lenType": 16,
    "lenVar": 40
   },
   "kernels_config": {
    "python": {
     "delete_cmd_postfix": "",
     "delete_cmd_prefix": "del ",
     "library": "var_list.py",
     "varRefreshCmd": "print(var_dic_list())"
    },
    "r": {
     "delete_cmd_postfix": ") ",
     "delete_cmd_prefix": "rm(",
     "library": "var_list.r",
     "varRefreshCmd": "cat(var_dic_list()) "
    }
   },
   "types_to_exclude": [
    "module",
    "function",
    "builtin_function_or_method",
    "instance",
    "_Feature"
   ],
   "window_display": false
  }
 },
 "nbformat": 4,
 "nbformat_minor": 1
}
