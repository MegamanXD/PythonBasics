{
  "nbformat": 4,
  "nbformat_minor": 0,
  "metadata": {
    "colab": {
      "name": "Recursion.ipynb",
      "provenance": [],
      "collapsed_sections": []
    },
    "kernelspec": {
      "name": "python3",
      "display_name": "Python 3"
    },
    "language_info": {
      "name": "python"
    }
  },
  "cells": [
    {
      "cell_type": "markdown",
      "metadata": {
        "id": "j0mxRXvtO1WJ"
      },
      "source": [
        "# **What is Recursion?**\n",
        "### It basically is the programming implementation of a Math Serie."
      ]
    },
    {
      "cell_type": "code",
      "metadata": {
        "colab": {
          "base_uri": "https://localhost:8080/"
        },
        "id": "u1vWXKPuONZI",
        "outputId": "b89883be-4816-4d40-ba53-50329f219f9c"
      },
      "source": [
        "# Factorial: n! = n*(n-1)! = n*(n-1)*(n-2)! = ... until it goes to (n-(n-1)) = 1\n",
        "def factorial(n):\n",
        "  return 1 if n<=1 else n*factorial(n-1)\n",
        "\n",
        "factorial(10)"
      ],
      "execution_count": 1,
      "outputs": [
        {
          "output_type": "execute_result",
          "data": {
            "text/plain": [
              "3628800"
            ]
          },
          "metadata": {
            "tags": []
          },
          "execution_count": 1
        }
      ]
    },
    {
      "cell_type": "code",
      "metadata": {
        "colab": {
          "base_uri": "https://localhost:8080/"
        },
        "id": "gxb7DCiWQpEM",
        "outputId": "e6afa5ce-dedc-4381-c925-9573e0d1e38e"
      },
      "source": [
        "# Fibonacci sequence: F(n) = F(n-1) + F(n-2) = ... until it goes to F(1) = 1\n",
        "def fibonacci(n):\n",
        "\t\treturn 1 if n<=1 else fibonacci(n-1) + fibonacci(n-2)\n",
        "\n",
        "def print_fibonacci_series(n):\n",
        "  fibo_series = []\n",
        "  for i in range(0,n):\n",
        "    element = fibonacci(i)\n",
        "    fibo_series.append(element)\n",
        "  print(fibo_series)\n",
        "\n",
        "print_fibonacci_series(20)"
      ],
      "execution_count": 2,
      "outputs": [
        {
          "output_type": "stream",
          "text": [
            "[1, 1, 2, 3, 5, 8, 13, 21, 34, 55, 89, 144, 233, 377, 610, 987, 1597, 2584, 4181, 6765]\n"
          ],
          "name": "stdout"
        }
      ]
    },
    {
      "cell_type": "markdown",
      "metadata": {
        "id": "zRqSFSRCU4Gs"
      },
      "source": [
        "### It is also useful for automating repeated actions"
      ]
    },
    {
      "cell_type": "code",
      "metadata": {
        "colab": {
          "base_uri": "https://localhost:8080/",
          "height": 35
        },
        "id": "3MpDHcZrUCLJ",
        "outputId": "a8b353cb-d14b-4858-b035-b6cb006098e1"
      },
      "source": [
        "# fully_reversed_string = reverse_of_string[position 1 till end] + string[0] until string length = 0\n",
        "def reverse(string):\n",
        "  return string if len(string) == 0 else reverse(string[1:]) + string[0]\n",
        "\n",
        "reverse('Desserts')"
      ],
      "execution_count": 3,
      "outputs": [
        {
          "output_type": "execute_result",
          "data": {
            "application/vnd.google.colaboratory.intrinsic+json": {
              "type": "string"
            },
            "text/plain": [
              "'stresseD'"
            ]
          },
          "metadata": {
            "tags": []
          },
          "execution_count": 3
        }
      ]
    }
  ]
}