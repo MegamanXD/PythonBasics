{
 "cells": [
  {
   "cell_type": "markdown",
   "metadata": {
    "id": "j0mxRXvtO1WJ"
   },
   "source": [
    "# **What is Recursion?**\n",
    "## It basically is the programming implementation of a Math Serie."
   ]
  },
  {
   "cell_type": "code",
   "execution_count": 1,
   "metadata": {
    "colab": {
     "base_uri": "https://localhost:8080/"
    },
    "id": "u1vWXKPuONZI",
    "outputId": "b89883be-4816-4d40-ba53-50329f219f9c"
   },
   "outputs": [
    {
     "data": {
      "text/plain": [
       "3628800"
      ]
     },
     "execution_count": 1,
     "metadata": {},
     "output_type": "execute_result"
    }
   ],
   "source": [
    "# Factorial: n! = n*(n-1)! = n*(n-1)*(n-2)! = ... until it goes to (n-(n-1)) = 1\n",
    "def factorial(n):\n",
    "  return 1 if n<=1 else n*factorial(n-1)\n",
    "\n",
    "factorial(10)"
   ]
  },
  {
   "cell_type": "code",
   "execution_count": 2,
   "metadata": {
    "colab": {
     "base_uri": "https://localhost:8080/"
    },
    "id": "gxb7DCiWQpEM",
    "outputId": "e6afa5ce-dedc-4381-c925-9573e0d1e38e"
   },
   "outputs": [
    {
     "name": "stdout",
     "output_type": "stream",
     "text": [
      "[1, 1, 2, 3, 5, 8, 13, 21, 34, 55, 89, 144, 233, 377, 610, 987, 1597, 2584, 4181, 6765]\n"
     ]
    }
   ],
   "source": [
    "# Fibonacci sequence: F(n) = F(n-1) + F(n-2) = ... until it goes to F(1) = 1\n",
    "def fibonacci(n):\n",
    "    return 1 if n<=1 else fibonacci(n-1) + fibonacci(n-2)\n",
    "\n",
    "def print_fibonacci_series(n):\n",
    "  fibo_series = [fibonacci(i) for i in range(0,n)]\n",
    "  print(fibo_series)\n",
    "\n",
    "print_fibonacci_series(20)"
   ]
  },
  {
   "cell_type": "markdown",
   "metadata": {
    "id": "zRqSFSRCU4Gs"
   },
   "source": [
    "## It is also useful for automating repeated actions"
   ]
  },
  {
   "cell_type": "code",
   "execution_count": 3,
   "metadata": {
    "colab": {
     "base_uri": "https://localhost:8080/",
     "height": 35
    },
    "id": "3MpDHcZrUCLJ",
    "outputId": "a8b353cb-d14b-4858-b035-b6cb006098e1"
   },
   "outputs": [
    {
     "data": {
      "text/plain": [
       "'stresseD'"
      ]
     },
     "execution_count": 3,
     "metadata": {},
     "output_type": "execute_result"
    }
   ],
   "source": [
    "# fully_reversed_string = reverse_of_string[position 1 till end] + string[0] until string length = 0\n",
    "def reverse(string):\n",
    "  return string if len(string) == 0 else reverse(string[1:]) + string[0]\n",
    "\n",
    "reverse('Desserts')"
   ]
  }
 ],
 "metadata": {
  "colab": {
   "collapsed_sections": [],
   "name": "Recursion.ipynb",
   "provenance": []
  },
  "kernelspec": {
   "display_name": "Python 3 (ipykernel)",
   "language": "python",
   "name": "python3"
  },
  "language_info": {
   "codemirror_mode": {
    "name": "ipython",
    "version": 3
   },
   "file_extension": ".py",
   "mimetype": "text/x-python",
   "name": "python",
   "nbconvert_exporter": "python",
   "pygments_lexer": "ipython3",
   "version": "3.9.12"
  },
  "toc": {
   "base_numbering": 1,
   "nav_menu": {},
   "number_sections": true,
   "sideBar": true,
   "skip_h1_title": false,
   "title_cell": "Table of Contents",
   "title_sidebar": "Contents",
   "toc_cell": false,
   "toc_position": {},
   "toc_section_display": true,
   "toc_window_display": true
  },
  "varInspector": {
   "cols": {
    "lenName": 16,
    "lenType": 16,
    "lenVar": 40
   },
   "kernels_config": {
    "python": {
     "delete_cmd_postfix": "",
     "delete_cmd_prefix": "del ",
     "library": "var_list.py",
     "varRefreshCmd": "print(var_dic_list())"
    },
    "r": {
     "delete_cmd_postfix": ") ",
     "delete_cmd_prefix": "rm(",
     "library": "var_list.r",
     "varRefreshCmd": "cat(var_dic_list()) "
    }
   },
   "types_to_exclude": [
    "module",
    "function",
    "builtin_function_or_method",
    "instance",
    "_Feature"
   ],
   "window_display": false
  }
 },
 "nbformat": 4,
 "nbformat_minor": 1
}
